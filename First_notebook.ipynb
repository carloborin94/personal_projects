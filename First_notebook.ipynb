{
 "cells": [
  {
   "cell_type": "code",
   "execution_count": 2,
   "metadata": {},
   "outputs": [],
   "source": [
    "import pandas as pd"
   ]
  },
  {
   "cell_type": "code",
   "execution_count": 6,
   "metadata": {},
   "outputs": [],
   "source": [
    "stocks_folder = r'C:\\Users\\Carlo\\Documents\\Carlo\\Università Tor Vergata\\Finance and Banking\\ARPM Marathon\\Codes\\Databases\\Global\\equities\\db_stocks_SP500'\n",
    "df = pd.read_csv(stocks_folder+'\\data.csv')"
   ]
  },
  {
   "cell_type": "code",
   "execution_count": 14,
   "metadata": {},
   "outputs": [
    {
     "data": {
      "text/plain": [
       "0        2-Jan-1980\n",
       "1        3-Jan-1980\n",
       "2        4-Jan-1980\n",
       "3        7-Jan-1980\n",
       "4        8-Jan-1980\n",
       "           ...     \n",
       "9544    27-Oct-2017\n",
       "9545    30-Oct-2017\n",
       "9546    31-Oct-2017\n",
       "9547     1-Nov-2017\n",
       "9548     2-Nov-2017\n",
       "Name: date, Length: 9549, dtype: object"
      ]
     },
     "execution_count": 14,
     "metadata": {},
     "output_type": "execute_result"
    }
   ],
   "source": [
    "df.date"
   ]
  },
  {
   "cell_type": "code",
   "execution_count": null,
   "metadata": {},
   "outputs": [],
   "source": []
  }
 ],
 "metadata": {
  "kernelspec": {
   "display_name": "Python 3",
   "language": "python",
   "name": "python3"
  },
  "language_info": {
   "codemirror_mode": {
    "name": "ipython",
    "version": 3
   },
   "file_extension": ".py",
   "mimetype": "text/x-python",
   "name": "python",
   "nbconvert_exporter": "python",
   "pygments_lexer": "ipython3",
   "version": "3.10.9"
  }
 },
 "nbformat": 4,
 "nbformat_minor": 2
}
